{
 "cells": [
  {
   "cell_type": "code",
   "execution_count": 587,
   "metadata": {},
   "outputs": [],
   "source": [
    "import pandas as pd\n",
    "import numpy as np\n",
    "import pickle\n",
    "import matplotlib.pyplot as plt\n"
   ]
  },
  {
   "cell_type": "code",
   "execution_count": 588,
   "metadata": {},
   "outputs": [
    {
     "name": "stdout",
     "output_type": "stream",
     "text": [
      "   YEAR   EXPERIENCE EMPLOYMENT                      TITLE LOCATION  \\\n",
      "0  2023  Entry Level  Full time          Applied Scientist       US   \n",
      "1  2023  Entry Level  Full time          Applied Scientist       US   \n",
      "2  2023  Entry Level  Full time       Data Quality Analyst       NG   \n",
      "3  2023  Entry Level  Full time    Compliance Data Analyst       NG   \n",
      "4  2023  Entry Level  Full time          Applied Scientist       US   \n",
      "5  2023  Entry Level  Full time          Applied Scientist       US   \n",
      "6  2023  Entry Level  Full time  Machine Learning Engineer       US   \n",
      "7  2023  Entry Level  Full time  Machine Learning Engineer       US   \n",
      "8  2023  Entry Level  Full time         Research Scientist       US   \n",
      "9  2023  Entry Level  Full time              Data Engineer       US   \n",
      "\n",
      "  COMPANYSIZE  SALARY  \n",
      "0       Large  213660  \n",
      "1       Large  130760  \n",
      "2       Large  100000  \n",
      "3       Large   30000  \n",
      "4       Large  204620  \n",
      "5       Large  110680  \n",
      "6      Medium  163196  \n",
      "7      Medium  145885  \n",
      "8       Large  220000  \n",
      "9      Medium   85000  \n"
     ]
    }
   ],
   "source": [
    "sourcedata = '../SourceData/DataScienceSalary_Scrubbed.csv'\n",
    "df = pd.read_csv(sourcedata).drop(columns=['Unnamed: 0'])\n",
    "print(df.head(10))"
   ]
  },
  {
   "cell_type": "code",
   "execution_count": 589,
   "metadata": {},
   "outputs": [],
   "source": [
    "#df=df.sample(n=100)\n",
    "#df_.groupby('EXPERIENCE').count()"
   ]
  },
  {
   "cell_type": "code",
   "execution_count": 590,
   "metadata": {},
   "outputs": [
    {
     "data": {
      "text/html": [
       "<div>\n",
       "<style scoped>\n",
       "    .dataframe tbody tr th:only-of-type {\n",
       "        vertical-align: middle;\n",
       "    }\n",
       "\n",
       "    .dataframe tbody tr th {\n",
       "        vertical-align: top;\n",
       "    }\n",
       "\n",
       "    .dataframe thead th {\n",
       "        text-align: right;\n",
       "    }\n",
       "</style>\n",
       "<table border=\"1\" class=\"dataframe\">\n",
       "  <thead>\n",
       "    <tr style=\"text-align: right;\">\n",
       "      <th></th>\n",
       "      <th>SALARY</th>\n",
       "    </tr>\n",
       "    <tr>\n",
       "      <th>EXPERIENCE</th>\n",
       "      <th></th>\n",
       "    </tr>\n",
       "  </thead>\n",
       "  <tbody>\n",
       "    <tr>\n",
       "      <th>Entry Level</th>\n",
       "      <td>267</td>\n",
       "    </tr>\n",
       "    <tr>\n",
       "      <th>Experienced</th>\n",
       "      <td>95</td>\n",
       "    </tr>\n",
       "    <tr>\n",
       "      <th>Mid Level</th>\n",
       "      <td>631</td>\n",
       "    </tr>\n",
       "    <tr>\n",
       "      <th>Senior</th>\n",
       "      <td>1417</td>\n",
       "    </tr>\n",
       "  </tbody>\n",
       "</table>\n",
       "</div>"
      ],
      "text/plain": [
       "             SALARY\n",
       "EXPERIENCE         \n",
       "Entry Level     267\n",
       "Experienced      95\n",
       "Mid Level       631\n",
       "Senior         1417"
      ]
     },
     "execution_count": 590,
     "metadata": {},
     "output_type": "execute_result"
    }
   ],
   "source": [
    "#df=df(df[['EXPERIENCE','SALARY']].filter(df['EXPERIENCE']!='Senior'))\n",
    "'''df = df[(df['EXPERIENCE']!='Senior')]'''\n",
    "df =df[['EXPERIENCE','SALARY']]\n",
    "df.groupby('EXPERIENCE').count()"
   ]
  },
  {
   "cell_type": "code",
   "execution_count": 591,
   "metadata": {},
   "outputs": [
    {
     "name": "stderr",
     "output_type": "stream",
     "text": [
      "/tmp/ipykernel_388628/12153378.py:1: FutureWarning: Downcasting behavior in `replace` is deprecated and will be removed in a future version. To retain the old behavior, explicitly call `result.infer_objects(copy=False)`. To opt-in to the future behavior, set `pd.set_option('future.no_silent_downcasting', True)`\n",
      "  df['EXPERIENCE']=df['EXPERIENCE'].replace({\"Entry Level\":1,\"Experienced\":2,\"Mid Level\":3,\"Senior\":4})\n"
     ]
    },
    {
     "data": {
      "text/html": [
       "<div>\n",
       "<style scoped>\n",
       "    .dataframe tbody tr th:only-of-type {\n",
       "        vertical-align: middle;\n",
       "    }\n",
       "\n",
       "    .dataframe tbody tr th {\n",
       "        vertical-align: top;\n",
       "    }\n",
       "\n",
       "    .dataframe thead th {\n",
       "        text-align: right;\n",
       "    }\n",
       "</style>\n",
       "<table border=\"1\" class=\"dataframe\">\n",
       "  <thead>\n",
       "    <tr style=\"text-align: right;\">\n",
       "      <th></th>\n",
       "      <th>EXPERIENCE</th>\n",
       "      <th>SALARY</th>\n",
       "    </tr>\n",
       "  </thead>\n",
       "  <tbody>\n",
       "    <tr>\n",
       "      <th>0</th>\n",
       "      <td>1</td>\n",
       "      <td>213660</td>\n",
       "    </tr>\n",
       "    <tr>\n",
       "      <th>1</th>\n",
       "      <td>1</td>\n",
       "      <td>130760</td>\n",
       "    </tr>\n",
       "    <tr>\n",
       "      <th>2</th>\n",
       "      <td>1</td>\n",
       "      <td>100000</td>\n",
       "    </tr>\n",
       "    <tr>\n",
       "      <th>3</th>\n",
       "      <td>1</td>\n",
       "      <td>30000</td>\n",
       "    </tr>\n",
       "    <tr>\n",
       "      <th>4</th>\n",
       "      <td>1</td>\n",
       "      <td>204620</td>\n",
       "    </tr>\n",
       "    <tr>\n",
       "      <th>...</th>\n",
       "      <td>...</td>\n",
       "      <td>...</td>\n",
       "    </tr>\n",
       "    <tr>\n",
       "      <th>2405</th>\n",
       "      <td>4</td>\n",
       "      <td>148261</td>\n",
       "    </tr>\n",
       "    <tr>\n",
       "      <th>2406</th>\n",
       "      <td>4</td>\n",
       "      <td>91237</td>\n",
       "    </tr>\n",
       "    <tr>\n",
       "      <th>2407</th>\n",
       "      <td>4</td>\n",
       "      <td>190200</td>\n",
       "    </tr>\n",
       "    <tr>\n",
       "      <th>2408</th>\n",
       "      <td>4</td>\n",
       "      <td>45618</td>\n",
       "    </tr>\n",
       "    <tr>\n",
       "      <th>2409</th>\n",
       "      <td>4</td>\n",
       "      <td>412000</td>\n",
       "    </tr>\n",
       "  </tbody>\n",
       "</table>\n",
       "<p>2410 rows × 2 columns</p>\n",
       "</div>"
      ],
      "text/plain": [
       "      EXPERIENCE  SALARY\n",
       "0              1  213660\n",
       "1              1  130760\n",
       "2              1  100000\n",
       "3              1   30000\n",
       "4              1  204620\n",
       "...          ...     ...\n",
       "2405           4  148261\n",
       "2406           4   91237\n",
       "2407           4  190200\n",
       "2408           4   45618\n",
       "2409           4  412000\n",
       "\n",
       "[2410 rows x 2 columns]"
      ]
     },
     "execution_count": 591,
     "metadata": {},
     "output_type": "execute_result"
    }
   ],
   "source": [
    "df['EXPERIENCE']=df['EXPERIENCE'].replace({\"Entry Level\":1,\"Experienced\":2,\"Mid Level\":3,\"Senior\":4})\n",
    "#df=df.drop(columns=['EXPERIENCE'])\n",
    "df\n"
   ]
  },
  {
   "cell_type": "code",
   "execution_count": 592,
   "metadata": {},
   "outputs": [
    {
     "data": {
      "text/plain": [
       "'#Check Model Accuracy\\nfrom sklearn.metrics import r2_score,mean_absolute_error,mean_squared_error,adjusted_rand_score\\nimport numpy as np\\nscore_r2 =r2_score(y_train,reg.predict(X_train))\\nscore_m = mean_absolute_error(y_test,y_pred)\\nscore_meansquare=mean_squared_error(y_test,y_pred)\\nscore_rootmeansquared = np.sqrt(mean_squared_error(y_test,y_pred))\\nprint(\"R2\",score_r2)\\nprint(\"Mean Abs\",score_m)\\nprint(\"Mean Square\",score_meansquare)\\nprint(\"Root Mean Square\",score_rootmeansquared)'"
      ]
     },
     "execution_count": 592,
     "metadata": {},
     "output_type": "execute_result"
    }
   ],
   "source": [
    "'''#Check Model Accuracy\n",
    "from sklearn.metrics import r2_score,mean_absolute_error,mean_squared_error,adjusted_rand_score\n",
    "import numpy as np\n",
    "score_r2 =r2_score(y_train,reg.predict(X_train))\n",
    "score_m = mean_absolute_error(y_test,y_pred)\n",
    "score_meansquare=mean_squared_error(y_test,y_pred)\n",
    "score_rootmeansquared = np.sqrt(mean_squared_error(y_test,y_pred))\n",
    "print(\"R2\",score_r2)\n",
    "print(\"Mean Abs\",score_m)\n",
    "print(\"Mean Square\",score_meansquare)\n",
    "print(\"Root Mean Square\",score_rootmeansquared)'''"
   ]
  },
  {
   "cell_type": "code",
   "execution_count": 593,
   "metadata": {},
   "outputs": [],
   "source": [
    "X = df.iloc[:,:-1].values\n",
    "y = df.iloc[:,-1].values"
   ]
  },
  {
   "cell_type": "code",
   "execution_count": 594,
   "metadata": {},
   "outputs": [
    {
     "data": {
      "text/plain": [
       "'X=X.reshape(1,-1)\\nX.shape'"
      ]
     },
     "execution_count": 594,
     "metadata": {},
     "output_type": "execute_result"
    }
   ],
   "source": [
    "'''X=X.reshape(1,-1)\n",
    "X.shape'''"
   ]
  },
  {
   "cell_type": "code",
   "execution_count": 595,
   "metadata": {},
   "outputs": [],
   "source": [
    "#y.shape"
   ]
  },
  {
   "cell_type": "code",
   "execution_count": 596,
   "metadata": {},
   "outputs": [
    {
     "data": {
      "text/plain": [
       "'from sklearn.preprocessing import StandardScaler,normalize\\ny_=np.array(y)\\ny =normalize([y_])\\ny=y.reshape(1,-1)\\ny.shape'"
      ]
     },
     "execution_count": 596,
     "metadata": {},
     "output_type": "execute_result"
    }
   ],
   "source": [
    "'''from sklearn.preprocessing import StandardScaler,normalize\n",
    "y_=np.array(y)\n",
    "y =normalize([y_])\n",
    "y=y.reshape(1,-1)\n",
    "y.shape'''"
   ]
  },
  {
   "cell_type": "code",
   "execution_count": 597,
   "metadata": {},
   "outputs": [
    {
     "data": {
      "text/html": [
       "<div>\n",
       "<style scoped>\n",
       "    .dataframe tbody tr th:only-of-type {\n",
       "        vertical-align: middle;\n",
       "    }\n",
       "\n",
       "    .dataframe tbody tr th {\n",
       "        vertical-align: top;\n",
       "    }\n",
       "\n",
       "    .dataframe thead th {\n",
       "        text-align: right;\n",
       "    }\n",
       "</style>\n",
       "<table border=\"1\" class=\"dataframe\">\n",
       "  <thead>\n",
       "    <tr style=\"text-align: right;\">\n",
       "      <th></th>\n",
       "      <th>SALARY</th>\n",
       "    </tr>\n",
       "    <tr>\n",
       "      <th>EXPERIENCE</th>\n",
       "      <th></th>\n",
       "    </tr>\n",
       "  </thead>\n",
       "  <tbody>\n",
       "    <tr>\n",
       "      <th>1</th>\n",
       "      <td>267</td>\n",
       "    </tr>\n",
       "    <tr>\n",
       "      <th>2</th>\n",
       "      <td>95</td>\n",
       "    </tr>\n",
       "    <tr>\n",
       "      <th>3</th>\n",
       "      <td>631</td>\n",
       "    </tr>\n",
       "    <tr>\n",
       "      <th>4</th>\n",
       "      <td>1417</td>\n",
       "    </tr>\n",
       "  </tbody>\n",
       "</table>\n",
       "</div>"
      ],
      "text/plain": [
       "            SALARY\n",
       "EXPERIENCE        \n",
       "1              267\n",
       "2               95\n",
       "3              631\n",
       "4             1417"
      ]
     },
     "execution_count": 597,
     "metadata": {},
     "output_type": "execute_result"
    }
   ],
   "source": [
    "df.groupby(['EXPERIENCE']).count()"
   ]
  },
  {
   "cell_type": "code",
   "execution_count": 598,
   "metadata": {},
   "outputs": [
    {
     "data": {
      "text/plain": [
       "'\\nencone.categories_\\nX_transform=encone.transform(X).toarray()\\nprint(X_transform)'"
      ]
     },
     "execution_count": 598,
     "metadata": {},
     "output_type": "execute_result"
    }
   ],
   "source": [
    "#Encoding Categorical Data - Independent data\n",
    "#Encoding Independent variables --> OneHotEncoder\n",
    "from sklearn.compose import ColumnTransformer\n",
    "from sklearn.preprocessing import OneHotEncoder,OrdinalEncoder\n",
    "#encone = ColumnTransformer(transformers=[('encoder',OneHotEncoder(),[0])],remainder='passthrough')\n",
    "\n",
    "encone = OneHotEncoder(handle_unknown='ignore')\n",
    "encone.fit(X)\n",
    "'''ordinal_mapping =[\n",
    "    {\n",
    "        \"col\":\"EXPERIENCE\",\"mapping\":{\"Entry Level\":1,\"Experienced\t\":2,\"Mid Level\":3,\"Senior\":4}\n",
    "    }\n",
    "]\n",
    "X_transform =ColumnTransformer(\n",
    "    [\n",
    "        (\n",
    "            'ordinal',OrdinalEncoder(ColumnTransformer=['EXPERIENCE'],mapping=ordinal_mapping),['EXPERIENCE']\n",
    "        )\n",
    "    ],remainder='passthrough'\n",
    ")'''\n",
    "#X_transform=enc.fit_transform(X).toarray()\n",
    "#X=enc.transform(X).toarray()\n",
    "#X_transform=np.array(X_transform)\n",
    "#y=np.array(y)\n",
    "'''\n",
    "encone.categories_\n",
    "X_transform=encone.transform(X).toarray()\n",
    "print(X_transform)'''"
   ]
  },
  {
   "cell_type": "code",
   "execution_count": 599,
   "metadata": {},
   "outputs": [],
   "source": [
    "#X_transform.reshape(1,-1)"
   ]
  },
  {
   "cell_type": "code",
   "execution_count": 600,
   "metadata": {},
   "outputs": [],
   "source": [
    "#encone.inverse_transform(X_transform)"
   ]
  },
  {
   "cell_type": "code",
   "execution_count": 601,
   "metadata": {},
   "outputs": [
    {
     "data": {
      "text/plain": [
       "'from sklearn.preprocessing import StandardScaler,Normalizer\\ntransformer = StandardScaler().fit(X)\\nX=transformer.transform(X)\\n'"
      ]
     },
     "execution_count": 601,
     "metadata": {},
     "output_type": "execute_result"
    }
   ],
   "source": [
    "'''from sklearn.preprocessing import StandardScaler,Normalizer\n",
    "transformer = StandardScaler().fit(X)\n",
    "X=transformer.transform(X)\n",
    "'''"
   ]
  },
  {
   "cell_type": "code",
   "execution_count": 602,
   "metadata": {},
   "outputs": [],
   "source": [
    "from sklearn.model_selection import train_test_split\n",
    "X_train,X_test,y_train,y_test = train_test_split(X,y,test_size=.20,random_state=0)"
   ]
  },
  {
   "cell_type": "code",
   "execution_count": 603,
   "metadata": {},
   "outputs": [
    {
     "data": {
      "text/html": [
       "<style>#sk-container-id-16 {\n",
       "  /* Definition of color scheme common for light and dark mode */\n",
       "  --sklearn-color-text: black;\n",
       "  --sklearn-color-line: gray;\n",
       "  /* Definition of color scheme for unfitted estimators */\n",
       "  --sklearn-color-unfitted-level-0: #fff5e6;\n",
       "  --sklearn-color-unfitted-level-1: #f6e4d2;\n",
       "  --sklearn-color-unfitted-level-2: #ffe0b3;\n",
       "  --sklearn-color-unfitted-level-3: chocolate;\n",
       "  /* Definition of color scheme for fitted estimators */\n",
       "  --sklearn-color-fitted-level-0: #f0f8ff;\n",
       "  --sklearn-color-fitted-level-1: #d4ebff;\n",
       "  --sklearn-color-fitted-level-2: #b3dbfd;\n",
       "  --sklearn-color-fitted-level-3: cornflowerblue;\n",
       "\n",
       "  /* Specific color for light theme */\n",
       "  --sklearn-color-text-on-default-background: var(--sg-text-color, var(--theme-code-foreground, var(--jp-content-font-color1, black)));\n",
       "  --sklearn-color-background: var(--sg-background-color, var(--theme-background, var(--jp-layout-color0, white)));\n",
       "  --sklearn-color-border-box: var(--sg-text-color, var(--theme-code-foreground, var(--jp-content-font-color1, black)));\n",
       "  --sklearn-color-icon: #696969;\n",
       "\n",
       "  @media (prefers-color-scheme: dark) {\n",
       "    /* Redefinition of color scheme for dark theme */\n",
       "    --sklearn-color-text-on-default-background: var(--sg-text-color, var(--theme-code-foreground, var(--jp-content-font-color1, white)));\n",
       "    --sklearn-color-background: var(--sg-background-color, var(--theme-background, var(--jp-layout-color0, #111)));\n",
       "    --sklearn-color-border-box: var(--sg-text-color, var(--theme-code-foreground, var(--jp-content-font-color1, white)));\n",
       "    --sklearn-color-icon: #878787;\n",
       "  }\n",
       "}\n",
       "\n",
       "#sk-container-id-16 {\n",
       "  color: var(--sklearn-color-text);\n",
       "}\n",
       "\n",
       "#sk-container-id-16 pre {\n",
       "  padding: 0;\n",
       "}\n",
       "\n",
       "#sk-container-id-16 input.sk-hidden--visually {\n",
       "  border: 0;\n",
       "  clip: rect(1px 1px 1px 1px);\n",
       "  clip: rect(1px, 1px, 1px, 1px);\n",
       "  height: 1px;\n",
       "  margin: -1px;\n",
       "  overflow: hidden;\n",
       "  padding: 0;\n",
       "  position: absolute;\n",
       "  width: 1px;\n",
       "}\n",
       "\n",
       "#sk-container-id-16 div.sk-dashed-wrapped {\n",
       "  border: 1px dashed var(--sklearn-color-line);\n",
       "  margin: 0 0.4em 0.5em 0.4em;\n",
       "  box-sizing: border-box;\n",
       "  padding-bottom: 0.4em;\n",
       "  background-color: var(--sklearn-color-background);\n",
       "}\n",
       "\n",
       "#sk-container-id-16 div.sk-container {\n",
       "  /* jupyter's `normalize.less` sets `[hidden] { display: none; }`\n",
       "     but bootstrap.min.css set `[hidden] { display: none !important; }`\n",
       "     so we also need the `!important` here to be able to override the\n",
       "     default hidden behavior on the sphinx rendered scikit-learn.org.\n",
       "     See: https://github.com/scikit-learn/scikit-learn/issues/21755 */\n",
       "  display: inline-block !important;\n",
       "  position: relative;\n",
       "}\n",
       "\n",
       "#sk-container-id-16 div.sk-text-repr-fallback {\n",
       "  display: none;\n",
       "}\n",
       "\n",
       "div.sk-parallel-item,\n",
       "div.sk-serial,\n",
       "div.sk-item {\n",
       "  /* draw centered vertical line to link estimators */\n",
       "  background-image: linear-gradient(var(--sklearn-color-text-on-default-background), var(--sklearn-color-text-on-default-background));\n",
       "  background-size: 2px 100%;\n",
       "  background-repeat: no-repeat;\n",
       "  background-position: center center;\n",
       "}\n",
       "\n",
       "/* Parallel-specific style estimator block */\n",
       "\n",
       "#sk-container-id-16 div.sk-parallel-item::after {\n",
       "  content: \"\";\n",
       "  width: 100%;\n",
       "  border-bottom: 2px solid var(--sklearn-color-text-on-default-background);\n",
       "  flex-grow: 1;\n",
       "}\n",
       "\n",
       "#sk-container-id-16 div.sk-parallel {\n",
       "  display: flex;\n",
       "  align-items: stretch;\n",
       "  justify-content: center;\n",
       "  background-color: var(--sklearn-color-background);\n",
       "  position: relative;\n",
       "}\n",
       "\n",
       "#sk-container-id-16 div.sk-parallel-item {\n",
       "  display: flex;\n",
       "  flex-direction: column;\n",
       "}\n",
       "\n",
       "#sk-container-id-16 div.sk-parallel-item:first-child::after {\n",
       "  align-self: flex-end;\n",
       "  width: 50%;\n",
       "}\n",
       "\n",
       "#sk-container-id-16 div.sk-parallel-item:last-child::after {\n",
       "  align-self: flex-start;\n",
       "  width: 50%;\n",
       "}\n",
       "\n",
       "#sk-container-id-16 div.sk-parallel-item:only-child::after {\n",
       "  width: 0;\n",
       "}\n",
       "\n",
       "/* Serial-specific style estimator block */\n",
       "\n",
       "#sk-container-id-16 div.sk-serial {\n",
       "  display: flex;\n",
       "  flex-direction: column;\n",
       "  align-items: center;\n",
       "  background-color: var(--sklearn-color-background);\n",
       "  padding-right: 1em;\n",
       "  padding-left: 1em;\n",
       "}\n",
       "\n",
       "\n",
       "/* Toggleable style: style used for estimator/Pipeline/ColumnTransformer box that is\n",
       "clickable and can be expanded/collapsed.\n",
       "- Pipeline and ColumnTransformer use this feature and define the default style\n",
       "- Estimators will overwrite some part of the style using the `sk-estimator` class\n",
       "*/\n",
       "\n",
       "/* Pipeline and ColumnTransformer style (default) */\n",
       "\n",
       "#sk-container-id-16 div.sk-toggleable {\n",
       "  /* Default theme specific background. It is overwritten whether we have a\n",
       "  specific estimator or a Pipeline/ColumnTransformer */\n",
       "  background-color: var(--sklearn-color-background);\n",
       "}\n",
       "\n",
       "/* Toggleable label */\n",
       "#sk-container-id-16 label.sk-toggleable__label {\n",
       "  cursor: pointer;\n",
       "  display: block;\n",
       "  width: 100%;\n",
       "  margin-bottom: 0;\n",
       "  padding: 0.5em;\n",
       "  box-sizing: border-box;\n",
       "  text-align: center;\n",
       "}\n",
       "\n",
       "#sk-container-id-16 label.sk-toggleable__label-arrow:before {\n",
       "  /* Arrow on the left of the label */\n",
       "  content: \"▸\";\n",
       "  float: left;\n",
       "  margin-right: 0.25em;\n",
       "  color: var(--sklearn-color-icon);\n",
       "}\n",
       "\n",
       "#sk-container-id-16 label.sk-toggleable__label-arrow:hover:before {\n",
       "  color: var(--sklearn-color-text);\n",
       "}\n",
       "\n",
       "/* Toggleable content - dropdown */\n",
       "\n",
       "#sk-container-id-16 div.sk-toggleable__content {\n",
       "  max-height: 0;\n",
       "  max-width: 0;\n",
       "  overflow: hidden;\n",
       "  text-align: left;\n",
       "  /* unfitted */\n",
       "  background-color: var(--sklearn-color-unfitted-level-0);\n",
       "}\n",
       "\n",
       "#sk-container-id-16 div.sk-toggleable__content.fitted {\n",
       "  /* fitted */\n",
       "  background-color: var(--sklearn-color-fitted-level-0);\n",
       "}\n",
       "\n",
       "#sk-container-id-16 div.sk-toggleable__content pre {\n",
       "  margin: 0.2em;\n",
       "  border-radius: 0.25em;\n",
       "  color: var(--sklearn-color-text);\n",
       "  /* unfitted */\n",
       "  background-color: var(--sklearn-color-unfitted-level-0);\n",
       "}\n",
       "\n",
       "#sk-container-id-16 div.sk-toggleable__content.fitted pre {\n",
       "  /* unfitted */\n",
       "  background-color: var(--sklearn-color-fitted-level-0);\n",
       "}\n",
       "\n",
       "#sk-container-id-16 input.sk-toggleable__control:checked~div.sk-toggleable__content {\n",
       "  /* Expand drop-down */\n",
       "  max-height: 200px;\n",
       "  max-width: 100%;\n",
       "  overflow: auto;\n",
       "}\n",
       "\n",
       "#sk-container-id-16 input.sk-toggleable__control:checked~label.sk-toggleable__label-arrow:before {\n",
       "  content: \"▾\";\n",
       "}\n",
       "\n",
       "/* Pipeline/ColumnTransformer-specific style */\n",
       "\n",
       "#sk-container-id-16 div.sk-label input.sk-toggleable__control:checked~label.sk-toggleable__label {\n",
       "  color: var(--sklearn-color-text);\n",
       "  background-color: var(--sklearn-color-unfitted-level-2);\n",
       "}\n",
       "\n",
       "#sk-container-id-16 div.sk-label.fitted input.sk-toggleable__control:checked~label.sk-toggleable__label {\n",
       "  background-color: var(--sklearn-color-fitted-level-2);\n",
       "}\n",
       "\n",
       "/* Estimator-specific style */\n",
       "\n",
       "/* Colorize estimator box */\n",
       "#sk-container-id-16 div.sk-estimator input.sk-toggleable__control:checked~label.sk-toggleable__label {\n",
       "  /* unfitted */\n",
       "  background-color: var(--sklearn-color-unfitted-level-2);\n",
       "}\n",
       "\n",
       "#sk-container-id-16 div.sk-estimator.fitted input.sk-toggleable__control:checked~label.sk-toggleable__label {\n",
       "  /* fitted */\n",
       "  background-color: var(--sklearn-color-fitted-level-2);\n",
       "}\n",
       "\n",
       "#sk-container-id-16 div.sk-label label.sk-toggleable__label,\n",
       "#sk-container-id-16 div.sk-label label {\n",
       "  /* The background is the default theme color */\n",
       "  color: var(--sklearn-color-text-on-default-background);\n",
       "}\n",
       "\n",
       "/* On hover, darken the color of the background */\n",
       "#sk-container-id-16 div.sk-label:hover label.sk-toggleable__label {\n",
       "  color: var(--sklearn-color-text);\n",
       "  background-color: var(--sklearn-color-unfitted-level-2);\n",
       "}\n",
       "\n",
       "/* Label box, darken color on hover, fitted */\n",
       "#sk-container-id-16 div.sk-label.fitted:hover label.sk-toggleable__label.fitted {\n",
       "  color: var(--sklearn-color-text);\n",
       "  background-color: var(--sklearn-color-fitted-level-2);\n",
       "}\n",
       "\n",
       "/* Estimator label */\n",
       "\n",
       "#sk-container-id-16 div.sk-label label {\n",
       "  font-family: monospace;\n",
       "  font-weight: bold;\n",
       "  display: inline-block;\n",
       "  line-height: 1.2em;\n",
       "}\n",
       "\n",
       "#sk-container-id-16 div.sk-label-container {\n",
       "  text-align: center;\n",
       "}\n",
       "\n",
       "/* Estimator-specific */\n",
       "#sk-container-id-16 div.sk-estimator {\n",
       "  font-family: monospace;\n",
       "  border: 1px dotted var(--sklearn-color-border-box);\n",
       "  border-radius: 0.25em;\n",
       "  box-sizing: border-box;\n",
       "  margin-bottom: 0.5em;\n",
       "  /* unfitted */\n",
       "  background-color: var(--sklearn-color-unfitted-level-0);\n",
       "}\n",
       "\n",
       "#sk-container-id-16 div.sk-estimator.fitted {\n",
       "  /* fitted */\n",
       "  background-color: var(--sklearn-color-fitted-level-0);\n",
       "}\n",
       "\n",
       "/* on hover */\n",
       "#sk-container-id-16 div.sk-estimator:hover {\n",
       "  /* unfitted */\n",
       "  background-color: var(--sklearn-color-unfitted-level-2);\n",
       "}\n",
       "\n",
       "#sk-container-id-16 div.sk-estimator.fitted:hover {\n",
       "  /* fitted */\n",
       "  background-color: var(--sklearn-color-fitted-level-2);\n",
       "}\n",
       "\n",
       "/* Specification for estimator info (e.g. \"i\" and \"?\") */\n",
       "\n",
       "/* Common style for \"i\" and \"?\" */\n",
       "\n",
       ".sk-estimator-doc-link,\n",
       "a:link.sk-estimator-doc-link,\n",
       "a:visited.sk-estimator-doc-link {\n",
       "  float: right;\n",
       "  font-size: smaller;\n",
       "  line-height: 1em;\n",
       "  font-family: monospace;\n",
       "  background-color: var(--sklearn-color-background);\n",
       "  border-radius: 1em;\n",
       "  height: 1em;\n",
       "  width: 1em;\n",
       "  text-decoration: none !important;\n",
       "  margin-left: 1ex;\n",
       "  /* unfitted */\n",
       "  border: var(--sklearn-color-unfitted-level-1) 1pt solid;\n",
       "  color: var(--sklearn-color-unfitted-level-1);\n",
       "}\n",
       "\n",
       ".sk-estimator-doc-link.fitted,\n",
       "a:link.sk-estimator-doc-link.fitted,\n",
       "a:visited.sk-estimator-doc-link.fitted {\n",
       "  /* fitted */\n",
       "  border: var(--sklearn-color-fitted-level-1) 1pt solid;\n",
       "  color: var(--sklearn-color-fitted-level-1);\n",
       "}\n",
       "\n",
       "/* On hover */\n",
       "div.sk-estimator:hover .sk-estimator-doc-link:hover,\n",
       ".sk-estimator-doc-link:hover,\n",
       "div.sk-label-container:hover .sk-estimator-doc-link:hover,\n",
       ".sk-estimator-doc-link:hover {\n",
       "  /* unfitted */\n",
       "  background-color: var(--sklearn-color-unfitted-level-3);\n",
       "  color: var(--sklearn-color-background);\n",
       "  text-decoration: none;\n",
       "}\n",
       "\n",
       "div.sk-estimator.fitted:hover .sk-estimator-doc-link.fitted:hover,\n",
       ".sk-estimator-doc-link.fitted:hover,\n",
       "div.sk-label-container:hover .sk-estimator-doc-link.fitted:hover,\n",
       ".sk-estimator-doc-link.fitted:hover {\n",
       "  /* fitted */\n",
       "  background-color: var(--sklearn-color-fitted-level-3);\n",
       "  color: var(--sklearn-color-background);\n",
       "  text-decoration: none;\n",
       "}\n",
       "\n",
       "/* Span, style for the box shown on hovering the info icon */\n",
       ".sk-estimator-doc-link span {\n",
       "  display: none;\n",
       "  z-index: 9999;\n",
       "  position: relative;\n",
       "  font-weight: normal;\n",
       "  right: .2ex;\n",
       "  padding: .5ex;\n",
       "  margin: .5ex;\n",
       "  width: min-content;\n",
       "  min-width: 20ex;\n",
       "  max-width: 50ex;\n",
       "  color: var(--sklearn-color-text);\n",
       "  box-shadow: 2pt 2pt 4pt #999;\n",
       "  /* unfitted */\n",
       "  background: var(--sklearn-color-unfitted-level-0);\n",
       "  border: .5pt solid var(--sklearn-color-unfitted-level-3);\n",
       "}\n",
       "\n",
       ".sk-estimator-doc-link.fitted span {\n",
       "  /* fitted */\n",
       "  background: var(--sklearn-color-fitted-level-0);\n",
       "  border: var(--sklearn-color-fitted-level-3);\n",
       "}\n",
       "\n",
       ".sk-estimator-doc-link:hover span {\n",
       "  display: block;\n",
       "}\n",
       "\n",
       "/* \"?\"-specific style due to the `<a>` HTML tag */\n",
       "\n",
       "#sk-container-id-16 a.estimator_doc_link {\n",
       "  float: right;\n",
       "  font-size: 1rem;\n",
       "  line-height: 1em;\n",
       "  font-family: monospace;\n",
       "  background-color: var(--sklearn-color-background);\n",
       "  border-radius: 1rem;\n",
       "  height: 1rem;\n",
       "  width: 1rem;\n",
       "  text-decoration: none;\n",
       "  /* unfitted */\n",
       "  color: var(--sklearn-color-unfitted-level-1);\n",
       "  border: var(--sklearn-color-unfitted-level-1) 1pt solid;\n",
       "}\n",
       "\n",
       "#sk-container-id-16 a.estimator_doc_link.fitted {\n",
       "  /* fitted */\n",
       "  border: var(--sklearn-color-fitted-level-1) 1pt solid;\n",
       "  color: var(--sklearn-color-fitted-level-1);\n",
       "}\n",
       "\n",
       "/* On hover */\n",
       "#sk-container-id-16 a.estimator_doc_link:hover {\n",
       "  /* unfitted */\n",
       "  background-color: var(--sklearn-color-unfitted-level-3);\n",
       "  color: var(--sklearn-color-background);\n",
       "  text-decoration: none;\n",
       "}\n",
       "\n",
       "#sk-container-id-16 a.estimator_doc_link.fitted:hover {\n",
       "  /* fitted */\n",
       "  background-color: var(--sklearn-color-fitted-level-3);\n",
       "}\n",
       "</style><div id=\"sk-container-id-16\" class=\"sk-top-container\"><div class=\"sk-text-repr-fallback\"><pre>LinearRegression()</pre><b>In a Jupyter environment, please rerun this cell to show the HTML representation or trust the notebook. <br />On GitHub, the HTML representation is unable to render, please try loading this page with nbviewer.org.</b></div><div class=\"sk-container\" hidden><div class=\"sk-item\"><div class=\"sk-estimator fitted sk-toggleable\"><input class=\"sk-toggleable__control sk-hidden--visually\" id=\"sk-estimator-id-16\" type=\"checkbox\" checked><label for=\"sk-estimator-id-16\" class=\"sk-toggleable__label fitted sk-toggleable__label-arrow fitted\">&nbsp;&nbsp;LinearRegression<a class=\"sk-estimator-doc-link fitted\" rel=\"noreferrer\" target=\"_blank\" href=\"https://scikit-learn.org/1.5/modules/generated/sklearn.linear_model.LinearRegression.html\">?<span>Documentation for LinearRegression</span></a><span class=\"sk-estimator-doc-link fitted\">i<span>Fitted</span></span></label><div class=\"sk-toggleable__content fitted\"><pre>LinearRegression()</pre></div> </div></div></div></div>"
      ],
      "text/plain": [
       "LinearRegression()"
      ]
     },
     "execution_count": 603,
     "metadata": {},
     "output_type": "execute_result"
    }
   ],
   "source": [
    "from sklearn.linear_model  import LinearRegression\n",
    "#reg = RandomForestRegressor(max_depth=2, random_state=0)\n",
    "reg = LinearRegression()\n",
    "reg.fit(X_train,y_train)"
   ]
  },
  {
   "cell_type": "code",
   "execution_count": 604,
   "metadata": {},
   "outputs": [
    {
     "data": {
      "text/plain": [
       "array([148939.17722446, 148939.17722446, 125051.98287021,  77277.5941617 ,\n",
       "       148939.17722446, 148939.17722446, 125051.98287021, 148939.17722446,\n",
       "       148939.17722446, 101164.78851595, 125051.98287021, 148939.17722446,\n",
       "       148939.17722446, 125051.98287021,  77277.5941617 ,  77277.5941617 ,\n",
       "       148939.17722446, 148939.17722446, 148939.17722446, 125051.98287021,\n",
       "       148939.17722446, 101164.78851595, 148939.17722446, 125051.98287021,\n",
       "        77277.5941617 , 148939.17722446, 125051.98287021, 148939.17722446,\n",
       "       125051.98287021, 148939.17722446, 125051.98287021,  77277.5941617 ,\n",
       "        77277.5941617 , 148939.17722446, 125051.98287021, 125051.98287021,\n",
       "       125051.98287021, 148939.17722446,  77277.5941617 , 148939.17722446,\n",
       "       125051.98287021, 125051.98287021, 125051.98287021, 125051.98287021,\n",
       "       148939.17722446, 125051.98287021, 125051.98287021,  77277.5941617 ,\n",
       "        77277.5941617 , 148939.17722446, 148939.17722446, 148939.17722446,\n",
       "       148939.17722446, 148939.17722446,  77277.5941617 ,  77277.5941617 ,\n",
       "       148939.17722446, 148939.17722446,  77277.5941617 , 148939.17722446,\n",
       "       148939.17722446, 125051.98287021, 125051.98287021, 148939.17722446,\n",
       "       148939.17722446, 125051.98287021, 148939.17722446, 148939.17722446,\n",
       "        77277.5941617 , 148939.17722446, 125051.98287021,  77277.5941617 ,\n",
       "       148939.17722446, 125051.98287021, 148939.17722446, 148939.17722446,\n",
       "       148939.17722446,  77277.5941617 ,  77277.5941617 , 148939.17722446,\n",
       "       125051.98287021, 148939.17722446, 148939.17722446, 148939.17722446,\n",
       "        77277.5941617 , 148939.17722446, 148939.17722446, 148939.17722446,\n",
       "       125051.98287021,  77277.5941617 , 148939.17722446, 148939.17722446,\n",
       "       148939.17722446, 148939.17722446, 125051.98287021, 148939.17722446,\n",
       "       148939.17722446, 148939.17722446, 125051.98287021, 148939.17722446,\n",
       "       148939.17722446,  77277.5941617 , 148939.17722446,  77277.5941617 ,\n",
       "       148939.17722446, 148939.17722446, 125051.98287021,  77277.5941617 ,\n",
       "       148939.17722446, 125051.98287021, 148939.17722446, 125051.98287021,\n",
       "       148939.17722446, 148939.17722446, 148939.17722446, 148939.17722446,\n",
       "       125051.98287021, 125051.98287021, 148939.17722446,  77277.5941617 ,\n",
       "       125051.98287021, 125051.98287021, 148939.17722446, 125051.98287021,\n",
       "       148939.17722446, 125051.98287021, 148939.17722446, 148939.17722446,\n",
       "        77277.5941617 ,  77277.5941617 , 148939.17722446, 148939.17722446,\n",
       "        77277.5941617 , 148939.17722446, 125051.98287021, 148939.17722446,\n",
       "       148939.17722446, 148939.17722446, 148939.17722446, 148939.17722446,\n",
       "       125051.98287021, 148939.17722446, 148939.17722446, 101164.78851595,\n",
       "       125051.98287021, 125051.98287021, 125051.98287021, 148939.17722446,\n",
       "       125051.98287021, 125051.98287021, 148939.17722446, 148939.17722446,\n",
       "       148939.17722446, 125051.98287021,  77277.5941617 , 148939.17722446,\n",
       "        77277.5941617 , 148939.17722446, 148939.17722446, 125051.98287021,\n",
       "        77277.5941617 , 101164.78851595, 148939.17722446, 148939.17722446,\n",
       "       148939.17722446, 148939.17722446, 125051.98287021, 148939.17722446,\n",
       "       148939.17722446, 148939.17722446, 125051.98287021, 148939.17722446,\n",
       "       148939.17722446, 148939.17722446, 148939.17722446, 148939.17722446,\n",
       "       125051.98287021,  77277.5941617 , 148939.17722446,  77277.5941617 ,\n",
       "       148939.17722446, 148939.17722446, 148939.17722446, 148939.17722446,\n",
       "       125051.98287021, 148939.17722446, 101164.78851595,  77277.5941617 ,\n",
       "        77277.5941617 ,  77277.5941617 , 148939.17722446, 148939.17722446,\n",
       "       148939.17722446, 148939.17722446, 148939.17722446, 148939.17722446,\n",
       "       148939.17722446, 125051.98287021, 148939.17722446, 148939.17722446,\n",
       "       125051.98287021, 125051.98287021, 148939.17722446, 148939.17722446,\n",
       "       148939.17722446, 148939.17722446, 148939.17722446, 125051.98287021,\n",
       "       148939.17722446, 148939.17722446,  77277.5941617 , 148939.17722446,\n",
       "        77277.5941617 , 148939.17722446, 148939.17722446, 148939.17722446,\n",
       "       125051.98287021,  77277.5941617 , 125051.98287021, 148939.17722446,\n",
       "       148939.17722446, 148939.17722446, 148939.17722446, 148939.17722446,\n",
       "       125051.98287021, 125051.98287021, 125051.98287021,  77277.5941617 ,\n",
       "       148939.17722446, 125051.98287021, 148939.17722446, 148939.17722446,\n",
       "       125051.98287021, 148939.17722446, 148939.17722446, 125051.98287021,\n",
       "       125051.98287021, 148939.17722446,  77277.5941617 , 125051.98287021,\n",
       "       148939.17722446, 148939.17722446, 148939.17722446, 148939.17722446,\n",
       "       148939.17722446,  77277.5941617 ,  77277.5941617 , 125051.98287021,\n",
       "       148939.17722446, 125051.98287021, 101164.78851595, 148939.17722446,\n",
       "       148939.17722446, 148939.17722446, 125051.98287021, 125051.98287021,\n",
       "       148939.17722446, 148939.17722446, 148939.17722446, 148939.17722446,\n",
       "       125051.98287021, 125051.98287021, 148939.17722446, 148939.17722446,\n",
       "       125051.98287021, 148939.17722446, 148939.17722446, 148939.17722446,\n",
       "       148939.17722446, 148939.17722446, 148939.17722446, 148939.17722446,\n",
       "       148939.17722446, 148939.17722446, 148939.17722446, 148939.17722446,\n",
       "       101164.78851595, 148939.17722446, 125051.98287021, 125051.98287021,\n",
       "       125051.98287021, 148939.17722446, 125051.98287021, 148939.17722446,\n",
       "       148939.17722446, 101164.78851595,  77277.5941617 , 148939.17722446,\n",
       "       148939.17722446, 125051.98287021,  77277.5941617 , 148939.17722446,\n",
       "        77277.5941617 , 148939.17722446, 148939.17722446, 148939.17722446,\n",
       "       125051.98287021, 148939.17722446, 125051.98287021, 148939.17722446,\n",
       "       148939.17722446, 148939.17722446, 148939.17722446, 148939.17722446,\n",
       "       148939.17722446, 125051.98287021, 148939.17722446, 148939.17722446,\n",
       "       148939.17722446, 148939.17722446, 148939.17722446, 148939.17722446,\n",
       "       148939.17722446, 148939.17722446, 148939.17722446, 125051.98287021,\n",
       "       148939.17722446, 125051.98287021, 148939.17722446, 148939.17722446,\n",
       "       125051.98287021, 125051.98287021, 148939.17722446, 148939.17722446,\n",
       "       148939.17722446, 148939.17722446, 148939.17722446,  77277.5941617 ,\n",
       "       148939.17722446, 148939.17722446, 148939.17722446, 148939.17722446,\n",
       "       101164.78851595,  77277.5941617 , 125051.98287021, 125051.98287021,\n",
       "       148939.17722446,  77277.5941617 ,  77277.5941617 , 148939.17722446,\n",
       "       125051.98287021, 148939.17722446, 148939.17722446, 125051.98287021,\n",
       "       148939.17722446,  77277.5941617 , 148939.17722446, 148939.17722446,\n",
       "       125051.98287021, 125051.98287021, 148939.17722446, 148939.17722446,\n",
       "       148939.17722446, 148939.17722446, 125051.98287021, 148939.17722446,\n",
       "       148939.17722446,  77277.5941617 , 125051.98287021, 148939.17722446,\n",
       "       148939.17722446, 148939.17722446, 148939.17722446, 125051.98287021,\n",
       "       148939.17722446, 148939.17722446, 148939.17722446, 125051.98287021,\n",
       "       148939.17722446, 148939.17722446, 148939.17722446, 125051.98287021,\n",
       "       148939.17722446, 125051.98287021, 148939.17722446, 148939.17722446,\n",
       "       148939.17722446, 148939.17722446, 125051.98287021, 148939.17722446,\n",
       "       148939.17722446, 148939.17722446, 148939.17722446, 125051.98287021,\n",
       "       125051.98287021, 148939.17722446, 148939.17722446, 125051.98287021,\n",
       "       125051.98287021, 148939.17722446, 148939.17722446, 148939.17722446,\n",
       "       148939.17722446,  77277.5941617 ,  77277.5941617 , 148939.17722446,\n",
       "       148939.17722446, 148939.17722446, 148939.17722446, 148939.17722446,\n",
       "       148939.17722446, 148939.17722446, 148939.17722446,  77277.5941617 ,\n",
       "        77277.5941617 , 125051.98287021, 148939.17722446, 148939.17722446,\n",
       "       125051.98287021, 148939.17722446, 148939.17722446, 148939.17722446,\n",
       "       125051.98287021, 125051.98287021, 148939.17722446, 148939.17722446,\n",
       "       101164.78851595, 148939.17722446, 125051.98287021,  77277.5941617 ,\n",
       "       125051.98287021, 125051.98287021, 148939.17722446, 148939.17722446,\n",
       "        77277.5941617 , 125051.98287021, 148939.17722446, 125051.98287021,\n",
       "       125051.98287021,  77277.5941617 , 125051.98287021, 148939.17722446,\n",
       "       148939.17722446, 125051.98287021, 125051.98287021, 148939.17722446,\n",
       "       148939.17722446, 148939.17722446,  77277.5941617 , 148939.17722446,\n",
       "       148939.17722446, 125051.98287021, 148939.17722446, 125051.98287021,\n",
       "       148939.17722446, 125051.98287021, 148939.17722446, 148939.17722446,\n",
       "       148939.17722446, 148939.17722446, 148939.17722446, 148939.17722446,\n",
       "       148939.17722446, 148939.17722446, 148939.17722446, 148939.17722446,\n",
       "       148939.17722446, 125051.98287021, 148939.17722446, 148939.17722446,\n",
       "       125051.98287021, 125051.98287021, 148939.17722446, 125051.98287021,\n",
       "       125051.98287021, 148939.17722446, 125051.98287021, 101164.78851595,\n",
       "        77277.5941617 , 125051.98287021, 148939.17722446, 148939.17722446,\n",
       "       148939.17722446, 148939.17722446,  77277.5941617 , 125051.98287021,\n",
       "       101164.78851595, 125051.98287021, 125051.98287021, 125051.98287021,\n",
       "       148939.17722446, 148939.17722446])"
      ]
     },
     "execution_count": 604,
     "metadata": {},
     "output_type": "execute_result"
    }
   ],
   "source": [
    "y_pred = reg.predict(X_test)\n",
    "y_pred"
   ]
  },
  {
   "cell_type": "code",
   "execution_count": 605,
   "metadata": {},
   "outputs": [
    {
     "data": {
      "text/plain": [
       "'y_pred.shape\\n(y_test.reshape(-1,1)).shape'"
      ]
     },
     "execution_count": 605,
     "metadata": {},
     "output_type": "execute_result"
    }
   ],
   "source": [
    "'''y_pred.shape\n",
    "(y_test.reshape(-1,1)).shape'''"
   ]
  },
  {
   "cell_type": "code",
   "execution_count": 606,
   "metadata": {},
   "outputs": [
    {
     "data": {
      "text/plain": [
       "0.11639448546196496"
      ]
     },
     "execution_count": 606,
     "metadata": {},
     "output_type": "execute_result"
    }
   ],
   "source": [
    "reg.score(X_train,y_train)"
   ]
  },
  {
   "cell_type": "code",
   "execution_count": 607,
   "metadata": {},
   "outputs": [
    {
     "name": "stdout",
     "output_type": "stream",
     "text": [
      "R2 0.16187276172224163\n",
      "Mean Abs 48709.580377347724\n",
      "Mean Square 3894298384.5954266\n",
      "Root Mean Square 62404.31383001841\n"
     ]
    }
   ],
   "source": [
    "#Check Model Accuracy\n",
    "from sklearn.metrics import r2_score,mean_absolute_error,mean_squared_error,adjusted_rand_score\n",
    "import numpy as np\n",
    "score_r2 =r2_score(y_test,y_pred)\n",
    "score_m = mean_absolute_error(y_test,y_pred)\n",
    "score_meansquare=mean_squared_error(y_test,y_pred)\n",
    "score_rootmeansquared = np.sqrt(mean_squared_error(y_test,y_pred))\n",
    "print(\"R2\",score_r2)\n",
    "print(\"Mean Abs\",score_m)\n",
    "print(\"Mean Square\",score_meansquare)\n",
    "print(\"Root Mean Square\",score_rootmeansquared)"
   ]
  },
  {
   "cell_type": "code",
   "execution_count": 608,
   "metadata": {},
   "outputs": [
    {
     "data": {
      "text/plain": [
       "(1, 1928)"
      ]
     },
     "execution_count": 608,
     "metadata": {},
     "output_type": "execute_result"
    }
   ],
   "source": [
    "X_train_=X_train.reshape(1,-1)\n",
    "X_train_.shape"
   ]
  },
  {
   "cell_type": "code",
   "execution_count": 609,
   "metadata": {},
   "outputs": [
    {
     "data": {
      "text/plain": [
       "(1, 1928)"
      ]
     },
     "execution_count": 609,
     "metadata": {},
     "output_type": "execute_result"
    }
   ],
   "source": [
    "y_train_=y_train.reshape(1,-1)\n",
    "y_train_.shape"
   ]
  },
  {
   "cell_type": "code",
   "execution_count": 610,
   "metadata": {},
   "outputs": [
    {
     "data": {
      "image/png": "[encoded data removed]",
      "text/plain": [
       "<Figure size 1000x600 with 1 Axes>"
      ]
     },
     "metadata": {},
     "output_type": "display_data"
    }
   ],
   "source": [
    "plt.figure(figsize=(10,6))\n",
    "plt.scatter(X_train, y_train,color='g')\n",
    "plt.plot(X_train,reg.predict(X_train),color='k')\n",
    "#plt.xticks(range(len(X_test)),df['X_test'],rotation=45,ha='right')\n",
    "plt.xlim(0,5)\n",
    "plt.show()"
   ]
  }
 ],
 "metadata": {
  "kernelspec": {
   "display_name": "salaryprediction-NNbqYYAn",
   "language": "python",
   "name": "python3"
  },
  "language_info": {
   "codemirror_mode": {
    "name": "ipython",
    "version": 3
   },
   "file_extension": ".py",
   "mimetype": "text/x-python",
   "name": "python",
   "nbconvert_exporter": "python",
   "pygments_lexer": "ipython3",
   "version": "3.10.12"
  }
 },
 "nbformat": 4,
 "nbformat_minor": 2
}
